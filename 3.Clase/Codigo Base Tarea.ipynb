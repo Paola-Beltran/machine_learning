{
 "cells": [
  {
   "cell_type": "markdown",
   "id": "10d18c0c-4b39-46e7-8cf1-60ba4e590021",
   "metadata": {},
   "source": [
    "### Tarea: Creación de un Modelo de Clasificación para Predecir Problemas en Procesos de un Servidor\n",
    "\n",
    "#### Objetivo\n",
    "Desarrollar un modelo de clasificación que pueda predecir si un proceso en ejecución en un servidor causará problemas, basándose en datos históricos de los procesos. Este modelo ayudará en la detección temprana de procesos potencialmente problemáticos, permitiendo tomar acciones preventivas para asegurar la estabilidad y el rendimiento del servidor.\n",
    "\n",
    "#### Datos\n",
    "El conjunto de datos proporcionado incluye las siguientes características para cada proceso en el servidor:\n",
    "\n",
    "- `ID_Proceso`: Identificador único del proceso.\n",
    "- `Uso_CPU`: Porcentaje del CPU utilizado por el proceso.\n",
    "- `Uso_Memoria`: Porcentaje de memoria utilizada por el proceso.\n",
    "- `Numero_Hilos`: Número de hilos del proceso.\n",
    "- `Tiempo_Ejecucion`: Tiempo de ejecución del proceso en horas.\n",
    "- `Numero_Errores`: Número de errores generados por el proceso en las últimas 24 horas.\n",
    "- `Tipo_Proceso`: Categoría del proceso (Servicio, Aplicación, Sistema).\n",
    "\n",
    "La variable objetivo, `Estado`, indica si un proceso es problemático (1) o no (0), basada en el uso de recursos, número de errores, tipo de proceso, y otros factores relevantes.\n",
    "\n",
    "#### Tareas a Realizar\n",
    "\n",
    "1. **Análisis Exploratorio de Datos (EDA)**: Realice un análisis preliminar para entender la distribución y las características de los datos. Esto incluye verificar valores faltantes, la distribución de las variables numéricas, y la frecuencia de las categorías en variables categóricas.\n",
    "\n",
    "2. **Preprocesamiento de Datos**:\n",
    "   - Limpieza: Maneje valores faltantes y elimine duplicados si los hay.\n",
    "   - Codificación de variables categóricas: Utilice técnicas como One-Hot Encoding para convertir `Tipo_Proceso` en variables numéricas.\n",
    "   - Escalado de características: Normalice o escale las características numéricas para que tengan el mismo rango de valores, lo cual es importante para algunos modelos de clasificación.\n",
    "\n",
    "3. **Selección y División del Conjunto de Datos**: Divida el conjunto de datos en entrenamiento, validación y prueba para evaluar la efectividad del modelo.\n",
    "\n",
    "4. **Construcción y Evaluación de Modelos**:\n",
    "   - Pruebe diferentes algoritmos de clasificación (por ejemplo, Regresión Logística, Árboles de Decisión, Bosques Aleatorios, y Máquinas de Soporte Vectorial) para encontrar el más adecuado.\n",
    "   - Utilice validación cruzada para optimizar los hiperparámetros y evaluar la robustez del modelo.\n",
    "   - Evalúe el modelo final utilizando el conjunto de prueba y métricas adecuadas (precisión, recall, puntuación F1, y curva ROC).\n",
    "\n",
    "5. **Interpretación de Resultados y Conclusiones**: Interprete los resultados del modelo en el contexto del problema. Identifique las características más importantes que influyen en la predicción de procesos problemáticos y discuta cómo se puede utilizar el modelo en un entorno de producción.\n",
    "\n",
    "6. **Reporte**: Prepare un informe detallado que cubra todos los pasos realizados, desde el EDA hasta la interpretación de los resultados, incluyendo cualquier insight relevante obtenido durante el proceso.\n",
    "\n",
    "#### Entrega\n",
    "La tarea final consistirá en un Jupyter Notebook que contenga todo el código utilizado para el análisis, preprocesamiento de datos, modelado, y evaluación, junto con un reporte escrito (dentro del mismo notebook o como un documento separado) que resuma los hallazgos y las recomendaciones basadas en el modelo desarrollado."
   ]
  },
  {
   "cell_type": "code",
   "execution_count": null,
   "id": "9d15c737-e382-403a-8254-ddfff6a2fc86",
   "metadata": {},
   "outputs": [],
   "source": []
  }
 ],
 "metadata": {
  "kernelspec": {
   "display_name": "Python 3 (ipykernel)",
   "language": "python",
   "name": "python3"
  },
  "language_info": {
   "codemirror_mode": {
    "name": "ipython",
    "version": 3
   },
   "file_extension": ".py",
   "mimetype": "text/x-python",
   "name": "python",
   "nbconvert_exporter": "python",
   "pygments_lexer": "ipython3",
   "version": "3.9.12"
  }
 },
 "nbformat": 4,
 "nbformat_minor": 5
}
