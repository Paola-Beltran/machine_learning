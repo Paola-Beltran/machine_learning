{
 "cells": [
  {
   "cell_type": "markdown",
   "metadata": {},
   "source": [
    "**Tarea: Creación de un modelo de clasificación para predecir problemas en procesos de un servidor**"
   ]
  },
  {
   "cell_type": "code",
   "execution_count": 1,
   "metadata": {},
   "outputs": [],
   "source": [
    "## Importar librerias y funciones\n",
    "\n",
    "import pandas as pd  # Libreria para manipulación y análisis de datos\n",
    "import numpy as np   # Librería para cálculo numérico y operaciones con arreglos\n",
    "import matplotlib.pyplot as plt  # Librería para crear gráficos y visualizaciones\n",
    "import seaborn as sns  # Librería para visualizaciones estadísticas\n",
    "from sklearn.model_selection import train_test_split  # Función para dividir datos en entrenamiento y prueba\n",
    "from sklearn.preprocessing import StandardScaler  # Escalador para normalizar características"
   ]
  },
  {
   "cell_type": "markdown",
   "metadata": {},
   "source": [
    "**Análisis Exploratorio de Datos (EDA)**:\n",
    "Se usa para examinar un conjunto de datos, entender su estructura, identificar patrones y detectar valores faltantes antes de aplicar modelos de Machine Learning"
   ]
  },
  {
   "cell_type": "code",
   "execution_count": null,
   "metadata": {},
   "outputs": [
    {
     "name": "stdout",
     "output_type": "stream",
     "text": [
      "   ID_Proceso    Uso_CPU  Uso_Memoria  Numero_Hilos  Tiempo_Ejecucion  \\\n",
      "0           1  37.454012    59.515562            16          8.184879   \n",
      "1           2  95.071431    36.471714            18         76.195256   \n",
      "2           3  73.199394     0.537562            21         46.991138   \n",
      "3           4  59.865848    56.108773            28         87.884325   \n",
      "4           5  15.601864    89.657041            39          4.622599   \n",
      "\n",
      "   Numero_Errores Tipo_Proceso  Estado  \n",
      "0               3   Aplicación       0  \n",
      "1               8   Aplicación       0  \n",
      "2               3   Aplicación       0  \n",
      "3               4   Aplicación       0  \n",
      "4               1      Sistema       0  \n"
     ]
    }
   ],
   "source": [
    "## Cargar la data del archivo CSV\n",
    "\n",
    "df = pd.read_csv('datos_procesos.csv',sep='|') # Lee el archivo CSV, especificando el separador\n",
    "pd.set_option('display.max_columns', None) # Muestra todas las columnas que tiene la data\n",
    "print(df.head()) # muestra las primeras 5 filas"
   ]
  },
  {
   "cell_type": "code",
   "execution_count": null,
   "metadata": {},
   "outputs": [
    {
     "data": {
      "text/plain": [
       "Estado\n",
       "0    935369\n",
       "1     64631\n",
       "Name: count, dtype: int64"
      ]
     },
     "execution_count": 3,
     "metadata": {},
     "output_type": "execute_result"
    }
   ],
   "source": [
    "\n",
    "df['Estado'].value_counts() # En la columna Estado cuenta cuantas veces aparece cada valor"
   ]
  }
 ],
 "metadata": {
  "kernelspec": {
   "display_name": "Python 3",
   "language": "python",
   "name": "python3"
  },
  "language_info": {
   "codemirror_mode": {
    "name": "ipython",
    "version": 3
   },
   "file_extension": ".py",
   "mimetype": "text/x-python",
   "name": "python",
   "nbconvert_exporter": "python",
   "pygments_lexer": "ipython3",
   "version": "3.12.1"
  }
 },
 "nbformat": 4,
 "nbformat_minor": 2
}
