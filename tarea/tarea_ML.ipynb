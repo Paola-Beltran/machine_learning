{
 "cells": [
  {
   "cell_type": "markdown",
   "metadata": {},
   "source": [
    "**Tarea: Creación de un modelo de clasificación para predecir problemas en procesos de un servidor**"
   ]
  },
  {
   "cell_type": "code",
   "execution_count": 1,
   "metadata": {},
   "outputs": [],
   "source": [
    "## Importar librerias y funciones\n",
    "\n",
    "import pandas as pd  # Libreria para manipulación y análisis de datos\n",
    "import numpy as np   # Librería para cálculo numérico y operaciones con arreglos\n",
    "import matplotlib.pyplot as plt  # Librería para crear gráficos y visualizaciones\n",
    "import seaborn as sns  # Librería para visualizaciones estadísticas\n",
    "from sklearn.model_selection import train_test_split  # Función para dividir datos en entrenamiento y prueba\n",
    "from sklearn.preprocessing import StandardScaler  # Escalador para normalizar características"
   ]
  },
  {
   "cell_type": "markdown",
   "metadata": {},
   "source": [
    "**Análisis Exploratorio de Datos (EDA)**:\n",
    "Se usa para examinar un conjunto de datos, entender su estructura, identificar patrones y detectar valores faltantes antes de aplicar modelos de Machine Learning"
   ]
  },
  {
   "cell_type": "code",
   "execution_count": 13,
   "metadata": {},
   "outputs": [
    {
     "data": {
      "text/html": [
       "<div>\n",
       "<style scoped>\n",
       "    .dataframe tbody tr th:only-of-type {\n",
       "        vertical-align: middle;\n",
       "    }\n",
       "\n",
       "    .dataframe tbody tr th {\n",
       "        vertical-align: top;\n",
       "    }\n",
       "\n",
       "    .dataframe thead th {\n",
       "        text-align: right;\n",
       "    }\n",
       "</style>\n",
       "<table border=\"1\" class=\"dataframe\">\n",
       "  <thead>\n",
       "    <tr style=\"text-align: right;\">\n",
       "      <th></th>\n",
       "      <th>ID_Proceso</th>\n",
       "      <th>Uso_CPU</th>\n",
       "      <th>Uso_Memoria</th>\n",
       "      <th>Numero_Hilos</th>\n",
       "      <th>Tiempo_Ejecucion</th>\n",
       "      <th>Numero_Errores</th>\n",
       "      <th>Tipo_Proceso</th>\n",
       "      <th>Estado</th>\n",
       "    </tr>\n",
       "  </thead>\n",
       "  <tbody>\n",
       "    <tr>\n",
       "      <th>0</th>\n",
       "      <td>1</td>\n",
       "      <td>37.454012</td>\n",
       "      <td>59.515562</td>\n",
       "      <td>16</td>\n",
       "      <td>8.184879</td>\n",
       "      <td>3</td>\n",
       "      <td>Aplicación</td>\n",
       "      <td>0</td>\n",
       "    </tr>\n",
       "    <tr>\n",
       "      <th>1</th>\n",
       "      <td>2</td>\n",
       "      <td>95.071431</td>\n",
       "      <td>36.471714</td>\n",
       "      <td>18</td>\n",
       "      <td>76.195256</td>\n",
       "      <td>8</td>\n",
       "      <td>Aplicación</td>\n",
       "      <td>0</td>\n",
       "    </tr>\n",
       "    <tr>\n",
       "      <th>2</th>\n",
       "      <td>3</td>\n",
       "      <td>73.199394</td>\n",
       "      <td>0.537562</td>\n",
       "      <td>21</td>\n",
       "      <td>46.991138</td>\n",
       "      <td>3</td>\n",
       "      <td>Aplicación</td>\n",
       "      <td>0</td>\n",
       "    </tr>\n",
       "    <tr>\n",
       "      <th>3</th>\n",
       "      <td>4</td>\n",
       "      <td>59.865848</td>\n",
       "      <td>56.108773</td>\n",
       "      <td>28</td>\n",
       "      <td>87.884325</td>\n",
       "      <td>4</td>\n",
       "      <td>Aplicación</td>\n",
       "      <td>0</td>\n",
       "    </tr>\n",
       "    <tr>\n",
       "      <th>4</th>\n",
       "      <td>5</td>\n",
       "      <td>15.601864</td>\n",
       "      <td>89.657041</td>\n",
       "      <td>39</td>\n",
       "      <td>4.622599</td>\n",
       "      <td>1</td>\n",
       "      <td>Sistema</td>\n",
       "      <td>0</td>\n",
       "    </tr>\n",
       "  </tbody>\n",
       "</table>\n",
       "</div>"
      ],
      "text/plain": [
       "   ID_Proceso    Uso_CPU  Uso_Memoria  Numero_Hilos  Tiempo_Ejecucion  \\\n",
       "0           1  37.454012    59.515562            16          8.184879   \n",
       "1           2  95.071431    36.471714            18         76.195256   \n",
       "2           3  73.199394     0.537562            21         46.991138   \n",
       "3           4  59.865848    56.108773            28         87.884325   \n",
       "4           5  15.601864    89.657041            39          4.622599   \n",
       "\n",
       "   Numero_Errores Tipo_Proceso  Estado  \n",
       "0               3   Aplicación       0  \n",
       "1               8   Aplicación       0  \n",
       "2               3   Aplicación       0  \n",
       "3               4   Aplicación       0  \n",
       "4               1      Sistema       0  "
      ]
     },
     "execution_count": 13,
     "metadata": {},
     "output_type": "execute_result"
    }
   ],
   "source": [
    "## Cargar la data del archivo CSV\n",
    "\n",
    "df = pd.read_csv('datos_procesos.csv',sep='|') # Lee el archivo CSV, especificando el separador\n",
    "pd.set_option('display.max_columns', None) # Muestra todas las columnas que tiene la data\n",
    "df.head() # muestra las primeras 5 filas de la data"
   ]
  },
  {
   "cell_type": "code",
   "execution_count": 12,
   "metadata": {},
   "outputs": [
    {
     "data": {
      "text/html": [
       "<div>\n",
       "<style scoped>\n",
       "    .dataframe tbody tr th:only-of-type {\n",
       "        vertical-align: middle;\n",
       "    }\n",
       "\n",
       "    .dataframe tbody tr th {\n",
       "        vertical-align: top;\n",
       "    }\n",
       "\n",
       "    .dataframe thead th {\n",
       "        text-align: right;\n",
       "    }\n",
       "</style>\n",
       "<table border=\"1\" class=\"dataframe\">\n",
       "  <thead>\n",
       "    <tr style=\"text-align: right;\">\n",
       "      <th></th>\n",
       "      <th>ID_Proceso</th>\n",
       "      <th>Uso_CPU</th>\n",
       "      <th>Uso_Memoria</th>\n",
       "      <th>Numero_Hilos</th>\n",
       "      <th>Tiempo_Ejecucion</th>\n",
       "      <th>Numero_Errores</th>\n",
       "      <th>Estado</th>\n",
       "    </tr>\n",
       "  </thead>\n",
       "  <tbody>\n",
       "    <tr>\n",
       "      <th>count</th>\n",
       "      <td>1000000.000000</td>\n",
       "      <td>1000000.000000</td>\n",
       "      <td>1000000.000000</td>\n",
       "      <td>1000000.000000</td>\n",
       "      <td>1000000.000000</td>\n",
       "      <td>1000000.000000</td>\n",
       "      <td>1000000.000000</td>\n",
       "    </tr>\n",
       "    <tr>\n",
       "      <th>mean</th>\n",
       "      <td>500000.500000</td>\n",
       "      <td>50.033449</td>\n",
       "      <td>49.947866</td>\n",
       "      <td>25.030640</td>\n",
       "      <td>50.043250</td>\n",
       "      <td>5.003483</td>\n",
       "      <td>0.064631</td>\n",
       "    </tr>\n",
       "    <tr>\n",
       "      <th>std</th>\n",
       "      <td>288675.278932</td>\n",
       "      <td>28.859113</td>\n",
       "      <td>28.851514</td>\n",
       "      <td>14.150159</td>\n",
       "      <td>28.829111</td>\n",
       "      <td>2.237005</td>\n",
       "      <td>0.245874</td>\n",
       "    </tr>\n",
       "    <tr>\n",
       "      <th>min</th>\n",
       "      <td>1.000000</td>\n",
       "      <td>0.000052</td>\n",
       "      <td>0.000038</td>\n",
       "      <td>1.000000</td>\n",
       "      <td>0.100083</td>\n",
       "      <td>0.000000</td>\n",
       "      <td>0.000000</td>\n",
       "    </tr>\n",
       "    <tr>\n",
       "      <th>25%</th>\n",
       "      <td>250000.750000</td>\n",
       "      <td>25.034021</td>\n",
       "      <td>24.999623</td>\n",
       "      <td>13.000000</td>\n",
       "      <td>25.074789</td>\n",
       "      <td>3.000000</td>\n",
       "      <td>0.000000</td>\n",
       "    </tr>\n",
       "    <tr>\n",
       "      <th>50%</th>\n",
       "      <td>500000.500000</td>\n",
       "      <td>50.055597</td>\n",
       "      <td>49.895350</td>\n",
       "      <td>25.000000</td>\n",
       "      <td>50.040186</td>\n",
       "      <td>5.000000</td>\n",
       "      <td>0.000000</td>\n",
       "    </tr>\n",
       "    <tr>\n",
       "      <th>75%</th>\n",
       "      <td>750000.250000</td>\n",
       "      <td>75.009673</td>\n",
       "      <td>74.924148</td>\n",
       "      <td>37.000000</td>\n",
       "      <td>75.030119</td>\n",
       "      <td>6.000000</td>\n",
       "      <td>0.000000</td>\n",
       "    </tr>\n",
       "    <tr>\n",
       "      <th>max</th>\n",
       "      <td>1000000.000000</td>\n",
       "      <td>99.999831</td>\n",
       "      <td>99.999938</td>\n",
       "      <td>49.000000</td>\n",
       "      <td>99.999992</td>\n",
       "      <td>19.000000</td>\n",
       "      <td>1.000000</td>\n",
       "    </tr>\n",
       "  </tbody>\n",
       "</table>\n",
       "</div>"
      ],
      "text/plain": [
       "           ID_Proceso         Uso_CPU     Uso_Memoria    Numero_Hilos  \\\n",
       "count  1000000.000000  1000000.000000  1000000.000000  1000000.000000   \n",
       "mean    500000.500000       50.033449       49.947866       25.030640   \n",
       "std     288675.278932       28.859113       28.851514       14.150159   \n",
       "min          1.000000        0.000052        0.000038        1.000000   \n",
       "25%     250000.750000       25.034021       24.999623       13.000000   \n",
       "50%     500000.500000       50.055597       49.895350       25.000000   \n",
       "75%     750000.250000       75.009673       74.924148       37.000000   \n",
       "max    1000000.000000       99.999831       99.999938       49.000000   \n",
       "\n",
       "       Tiempo_Ejecucion  Numero_Errores          Estado  \n",
       "count    1000000.000000  1000000.000000  1000000.000000  \n",
       "mean          50.043250        5.003483        0.064631  \n",
       "std           28.829111        2.237005        0.245874  \n",
       "min            0.100083        0.000000        0.000000  \n",
       "25%           25.074789        3.000000        0.000000  \n",
       "50%           50.040186        5.000000        0.000000  \n",
       "75%           75.030119        6.000000        0.000000  \n",
       "max           99.999992       19.000000        1.000000  "
      ]
     },
     "execution_count": 12,
     "metadata": {},
     "output_type": "execute_result"
    }
   ],
   "source": [
    "# Solo muestra estadística descriptiva de las columnas numéricas\n",
    "df.describe()"
   ]
  },
  {
   "cell_type": "code",
   "execution_count": 11,
   "metadata": {},
   "outputs": [
    {
     "data": {
      "text/plain": [
       "ID_Proceso          0\n",
       "Uso_CPU             0\n",
       "Uso_Memoria         0\n",
       "Numero_Hilos        0\n",
       "Tiempo_Ejecucion    0\n",
       "Numero_Errores      0\n",
       "Tipo_Proceso        0\n",
       "Estado              0\n",
       "dtype: int64"
      ]
     },
     "execution_count": 11,
     "metadata": {},
     "output_type": "execute_result"
    }
   ],
   "source": [
    "# muestra la cantidad de valores nulos por columna si los hay\n",
    "df.isnull().sum()"
   ]
  },
  {
   "cell_type": "code",
   "execution_count": 10,
   "metadata": {},
   "outputs": [
    {
     "data": {
      "text/plain": [
       "Estado\n",
       "0    935369\n",
       "1     64631\n",
       "Name: count, dtype: int64"
      ]
     },
     "execution_count": 10,
     "metadata": {},
     "output_type": "execute_result"
    }
   ],
   "source": [
    "df['Estado'].value_counts()"
   ]
  }
 ],
 "metadata": {
  "kernelspec": {
   "display_name": "Python 3",
   "language": "python",
   "name": "python3"
  },
  "language_info": {
   "codemirror_mode": {
    "name": "ipython",
    "version": 3
   },
   "file_extension": ".py",
   "mimetype": "text/x-python",
   "name": "python",
   "nbconvert_exporter": "python",
   "pygments_lexer": "ipython3",
   "version": "3.12.1"
  }
 },
 "nbformat": 4,
 "nbformat_minor": 2
}
